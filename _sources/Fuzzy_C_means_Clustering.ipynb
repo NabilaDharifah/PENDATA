{
  "nbformat": 4,
  "nbformat_minor": 0,
  "metadata": {
    "colab": {
      "provenance": []
    },
    "kernelspec": {
      "name": "python3",
      "display_name": "Python 3"
    },
    "language_info": {
      "name": "python"
    }
  },
  "cells": [
    {
      "cell_type": "markdown",
      "source": [
        "# Fuzzy C-means Clustering"
      ],
      "metadata": {
        "id": "bowWYVKk7OYZ"
      }
    },
    {
      "cell_type": "markdown",
      "source": [
        "## Konsep dasar fuzzy c-means clustering\n",
        "\n",
        "FCM adalah metode unsupervised learning yang membagi data menjadi beberapa cluster dengan memungkinkan satu data masuk ke lebih dari satu cluster.\n",
        "\n",
        "Output-nya: pusat cluster & matriks keanggotaan."
      ],
      "metadata": {
        "id": "N6GdPhUQ7ZK_"
      }
    },
    {
      "cell_type": "markdown",
      "source": [
        "## Algoritma Fuzzy C-Means (FCM)\n",
        "\n",
        "1. Inisialisasi Parameter\n",
        "\n",
        "   - Tentukan jumlah cluster \\( c \\)\n",
        "   - Tentukan eksponen fuzziness \\( m \\) (biasanya \\( m = 2 \\))\n",
        "   - Inisialisasi matriks keanggotaan \\( U = [u_{ij}] \\) secara acak, dengan syarat:\n",
        "     $$\n",
        "     \\sum_{j=1}^{c} u_{ij} = 1 \\quad \\text{untuk semua } i\n",
        "     $$\n",
        "\n",
        "2. Hitung Pusat Cluster\n",
        "\n",
        "   Untuk setiap cluster \\( j \\), pusat cluster dihitung menggunakan:\n",
        "   $$\n",
        "   c_j = \\frac{\\sum_{i=1}^{N} u_{ij}^m \\cdot x_i}{\\sum_{i=1}^{N} u_{ij}^m}\n",
        "   $$\n",
        "   Di mana:\n",
        "   - \\( c_j \\) = pusat cluster ke-\\( j \\)\n",
        "   - \\( x_i \\) = data ke-\\( i \\)\n",
        "   - \\( u_{ij} \\) = derajat keanggotaan data \\( i \\) terhadap cluster \\( j \\)\n",
        "   - \\( m \\) = parameter fuzzy (semakin besar, semakin fuzzy)\n",
        "\n",
        "3. Update Derajat Keanggotaan\n",
        "   Setelah pusat cluster dihitung, update matriks keanggotaan \\( U \\) dengan:\n",
        "   $$\n",
        "   u_{ij} = \\left( \\sum_{k=1}^{c} \\left( \\frac{\\|x_i - c_j\\|}{\\|x_i - c_k\\|} \\right)^{\\frac{2}{m-1}} \\right)^{-1}\n",
        "   $$\n",
        "   Di mana \\( \\|x_i - c_j\\| \\) adalah jarak Euclidean antara data \\( i \\) dan pusat cluster \\( j \\).\n",
        "\n",
        "4. Cek Konvergensi\n",
        "   - Hitung selisih antara matriks keanggotaan lama dan yang baru:\n",
        "     $$\n",
        "     \\| U^{(t+1)} - U^{(t)} \\| < \\varepsilon\n",
        "     $$\n",
        "   - Jika terpenuhi, hentikan iterasi.\n",
        "   - Jika tidak, kembali ke langkah 2.\n",
        "\n",
        "---\n",
        "\n",
        "Output Akhir:\n",
        "- Pusat cluster \\( c_j \\)\n",
        "- Matriks keanggotaan akhir \\( U \\)\n",
        "- Label cluster utama untuk setiap data: pilih cluster dengan \\( u_{ij} \\) tertinggi.\n"
      ],
      "metadata": {
        "id": "FpUxI8Ny8GH5"
      }
    },
    {
      "cell_type": "markdown",
      "source": [
        "## Contoh Manual Perhitungan dan Implementasi Fuzzy C-Means\n",
        "\n",
        "### Data Awal (Manual)\n",
        "\n",
        "Misalkan kita memiliki data sederhana 1 dimensi:\n",
        "\n",
        "X = {1, 2, 3, 8, 9}\n",
        "\n",
        "Kita akan mengelompokkan data ke dalam **2 cluster**, menggunakan Fuzzy C-Means (FCM) dengan parameter:\n",
        "\n",
        "- Jumlah cluster: \\( c = 2 \\)\n",
        "- Fuzzifier: \\( m = 2 \\)\n",
        "\n",
        "Inisialisasi awal derajat keanggotaan \\( U \\) dilakukan secara acak. Contoh:\n",
        "\n",
        "\\[\n",
        "U =\n",
        "\\begin{bmatrix}\n",
        "0.8 & 0.2 \\\\\\\\\n",
        "0.7 & 0.3 \\\\\\\\\n",
        "0.6 & 0.4 \\\\\\\\\n",
        "0.3 & 0.7 \\\\\\\\\n",
        "0.2 & 0.8 \\\\\n",
        "\\end{bmatrix}\n",
        "\\]\n",
        "\n",
        "Setiap baris = data.  \n",
        "Setiap kolom = keanggotaan terhadap cluster (1 dan 2).\n",
        "\n",
        "---\n",
        "\n",
        "### Rumus-Rumus Fuzzy C-Means\n",
        "\n",
        "1. Hitung pusat cluster:\n",
        "\n",
        "$$\n",
        "c_j = \\frac{\\sum_{i=1}^{N} u_{ij}^m \\cdot x_i}{\\sum_{i=1}^{N} u_{ij}^m}\n",
        "$$\n",
        "\n",
        "2. Update derajat keanggotaan:\n",
        "\n",
        "$$\n",
        "u_{ij} = \\left( \\sum_{k=1}^{C} \\left( \\frac{ \\| x_i - c_j \\| }{ \\| x_i - c_k \\| } \\right)^{\\frac{2}{m-1}} \\right)^{-1}\n",
        "$$\n",
        "\n",
        "3. Fungsi Objektif:\n",
        "\n",
        "$$\n",
        "J_m = \\sum_{i=1}^{N} \\sum_{j=1}^{C} u_{ij}^m \\cdot \\|x_i - c_j\\|^2\n",
        "$$\n",
        "\n",
        "\n",
        "\n",
        "\n",
        "\n"
      ],
      "metadata": {
        "id": "3BBNxevS_Gg1"
      }
    },
    {
      "cell_type": "markdown",
      "source": [
        "##implementasi pyhton\n",
        "### tampilkan nilai pusat cluster dan keanggotaan setiap iterasi dan hitung fungsi objectif setiap iterasi"
      ],
      "metadata": {
        "id": "ipix6zlgBZ5Q"
      }
    },
    {
      "cell_type": "code",
      "source": [
        "import numpy as np\n",
        "\n",
        "def initialize_membership(n_samples, n_clusters):\n",
        "    U = np.random.dirichlet(np.ones(n_clusters), size=n_samples)\n",
        "    return U\n",
        "\n",
        "def calculate_centers(X, U, m):\n",
        "    um = U ** m\n",
        "    return (um.T @ X) / np.sum(um.T, axis=1)[:, None]\n",
        "\n",
        "def update_membership(X, centers, m):\n",
        "    power = 2 / (m - 1)\n",
        "    dist = np.linalg.norm(X[:, None] - centers, axis=2)\n",
        "    dist = np.fmax(dist, np.finfo(np.float64).eps)\n",
        "    inv_dist = 1.0 / dist\n",
        "    temp = inv_dist ** power\n",
        "    return temp / temp.sum(axis=1, keepdims=True)\n",
        "\n",
        "def objective_function(X, U, centers, m):\n",
        "    return np.sum((U ** m) * (np.linalg.norm(X[:, None] - centers, axis=2) ** 2))\n",
        "\n",
        "# Data 1D\n",
        "X = np.array([[1], [2], [3], [8], [9]])\n",
        "n_clusters = 2\n",
        "m = 2\n",
        "epsilon = 1e-5\n",
        "max_iter = 100\n",
        "\n",
        "U = initialize_membership(len(X), n_clusters)\n",
        "\n",
        "for i in range(max_iter):\n",
        "    centers = calculate_centers(X, U, m)\n",
        "    new_U = update_membership(X, centers, m)\n",
        "    obj = objective_function(X, U, centers, m)\n",
        "\n",
        "    print(f\"Iterasi {i+1}\")\n",
        "    print(\"Pusat Cluster:\", centers.flatten())\n",
        "    print(\"Keanggotaan:\\n\", np.round(U, 4))\n",
        "    print(\"Fungsi Objektif:\", round(obj, 5), \"\\n\")\n",
        "\n",
        "    if np.linalg.norm(new_U - U) < epsilon:\n",
        "        break\n",
        "    U = new_U"
      ],
      "metadata": {
        "colab": {
          "base_uri": "https://localhost:8080/"
        },
        "id": "K-OYB2l9BaYQ",
        "outputId": "96c4d18b-d606-480d-a7f9-050a7feee6d1"
      },
      "execution_count": 1,
      "outputs": [
        {
          "output_type": "stream",
          "name": "stdout",
          "text": [
            "Iterasi 1\n",
            "Pusat Cluster: [4.41936553 6.30911153]\n",
            "Keanggotaan:\n",
            " [[0.9314 0.0686]\n",
            " [0.6056 0.3944]\n",
            " [0.5153 0.4847]\n",
            " [0.0681 0.9319]\n",
            " [0.9591 0.0409]]\n",
            "Fungsi Objektif: 40.2753 \n",
            "\n",
            "Iterasi 2\n",
            "Pusat Cluster: [2.46242395 7.6296012 ]\n",
            "Keanggotaan:\n",
            " [[0.7068 0.2932]\n",
            " [0.7603 0.2397]\n",
            " [0.8446 0.1554]\n",
            " [0.1823 0.8177]\n",
            " [0.2566 0.7434]]\n",
            "Fungsi Objektif: 12.4769 \n",
            "\n",
            "Iterasi 3\n",
            "Pusat Cluster: [2.02672632 8.47165232]\n",
            "Keanggotaan:\n",
            " [[0.9536 0.0464]\n",
            " [0.9933 0.0067]\n",
            " [0.9867 0.0133]\n",
            " [0.0045 0.9955]\n",
            " [0.0421 0.9579]]\n",
            "Fungsi Objektif: 2.5724 \n",
            "\n",
            "Iterasi 4\n",
            "Pusat Cluster: [1.99200228 8.49632666]\n",
            "Keanggotaan:\n",
            " [[0.9815 0.0185]\n",
            " [1.     0.    ]\n",
            " [0.9693 0.0307]\n",
            " [0.0062 0.9938]\n",
            " [0.0057 0.9943]]\n",
            "Fungsi Objektif: 2.44749 \n",
            "\n",
            "Iterasi 5\n",
            "Pusat Cluster: [1.98985684 8.49675603]\n",
            "Keanggotaan:\n",
            " [[0.9828 0.0172]\n",
            " [1.     0.    ]\n",
            " [0.9675 0.0325]\n",
            " [0.0068 0.9932]\n",
            " [0.0051 0.9949]]\n",
            "Fungsi Objektif: 2.44723 \n",
            "\n",
            "Iterasi 6\n",
            "Pusat Cluster: [1.98971942 8.49675179]\n",
            "Keanggotaan:\n",
            " [[0.9829 0.0171]\n",
            " [1.     0.    ]\n",
            " [0.9673 0.0327]\n",
            " [0.0068 0.9932]\n",
            " [0.0051 0.9949]]\n",
            "Fungsi Objektif: 2.44723 \n",
            "\n",
            "Iterasi 7\n",
            "Pusat Cluster: [1.98971045 8.49675067]\n",
            "Keanggotaan:\n",
            " [[0.9829 0.0171]\n",
            " [1.     0.    ]\n",
            " [0.9673 0.0327]\n",
            " [0.0068 0.9932]\n",
            " [0.0051 0.9949]]\n",
            "Fungsi Objektif: 2.44723 \n",
            "\n"
          ]
        }
      ]
    },
    {
      "cell_type": "markdown",
      "metadata": {
        "id": "a061bfc6"
      },
      "source": [
        "## implementasi fuzzy c-means untuk data iris (3 cluster) pyhton iris\n",
        "Menggunakan `skfuzzy` dan data Iris dari sklearn.\n"
      ]
    },
    {
      "cell_type": "code",
      "source": [
        "!pip install scikit-fuzzy"
      ],
      "metadata": {
        "colab": {
          "base_uri": "https://localhost:8080/"
        },
        "id": "bqIbPz7mB49k",
        "outputId": "16a7d1a3-6fb2-4cfe-cae8-e5403ca16669"
      },
      "execution_count": 3,
      "outputs": [
        {
          "output_type": "stream",
          "name": "stdout",
          "text": [
            "Collecting scikit-fuzzy\n",
            "  Downloading scikit_fuzzy-0.5.0-py2.py3-none-any.whl.metadata (2.6 kB)\n",
            "Downloading scikit_fuzzy-0.5.0-py2.py3-none-any.whl (920 kB)\n",
            "\u001b[?25l   \u001b[90m━━━━━━━━━━━━━━━━━━━━━━━━━━━━━━━━━━━━━━━━\u001b[0m \u001b[32m0.0/920.8 kB\u001b[0m \u001b[31m?\u001b[0m eta \u001b[36m-:--:--\u001b[0m\r\u001b[2K   \u001b[91m━━━━━━━━━━━━━━\u001b[0m\u001b[90m╺\u001b[0m\u001b[90m━━━━━━━━━━━━━━━━━━━━━━━━━\u001b[0m \u001b[32m327.7/920.8 kB\u001b[0m \u001b[31m10.1 MB/s\u001b[0m eta \u001b[36m0:00:01\u001b[0m\r\u001b[2K   \u001b[90m━━━━━━━━━━━━━━━━━━━━━━━━━━━━━━━━━━━━━━━━\u001b[0m \u001b[32m920.8/920.8 kB\u001b[0m \u001b[31m16.0 MB/s\u001b[0m eta \u001b[36m0:00:00\u001b[0m\n",
            "\u001b[?25hInstalling collected packages: scikit-fuzzy\n",
            "Successfully installed scikit-fuzzy-0.5.0\n"
          ]
        }
      ]
    },
    {
      "cell_type": "code",
      "execution_count": 4,
      "metadata": {
        "colab": {
          "base_uri": "https://localhost:8080/",
          "height": 591
        },
        "id": "d68bfb8e",
        "outputId": "74b5e285-777e-4d73-afa4-4b52e2fcf08c"
      },
      "outputs": [
        {
          "output_type": "stream",
          "name": "stdout",
          "text": [
            "=== Pusat Cluster ===\n",
            "Cluster 1: [5.00396451 3.41411318 1.48277536 0.25352818]\n",
            "Cluster 2: [5.88842356 2.76088735 4.36318503 1.39691294]\n",
            "Cluster 3: [6.77431261 3.05218341 5.64593019 2.05322974]\n",
            "\n",
            "FPC (Fuzzy Partition Coefficient): 0.7833748835669098\n"
          ]
        },
        {
          "output_type": "display_data",
          "data": {
            "text/plain": [
              "<Figure size 800x500 with 1 Axes>"
            ],
            "image/png": "[encoded data removed]"
          },
          "metadata": {}
        }
      ],
      "source": [
        "import numpy as np\n",
        "import matplotlib.pyplot as plt\n",
        "from sklearn import datasets\n",
        "import skfuzzy as fuzz\n",
        "\n",
        "# Load data iris (hanya fitur)\n",
        "iris = datasets.load_iris()\n",
        "X = iris.data.T  # shape (features, samples)\n",
        "\n",
        "# FCM clustering\n",
        "n_clusters = 3\n",
        "cntr, u, u0, d, jm, p, fpc = fuzz.cluster.cmeans(\n",
        "    X, c=n_clusters, m=2, error=0.005, maxiter=1000, init=None)\n",
        "\n",
        "# Print results\n",
        "print(\"=== Pusat Cluster ===\")\n",
        "for i, center in enumerate(cntr):\n",
        "    print(f\"Cluster {i+1}: {center}\")\n",
        "\n",
        "print(\"\\nFPC (Fuzzy Partition Coefficient):\", fpc)\n",
        "\n",
        "# Plot\n",
        "cluster_membership = np.argmax(u, axis=0)\n",
        "plt.figure(figsize=(8, 5))\n",
        "plt.scatter(X[0], X[1], c=cluster_membership, cmap='viridis', label=\"Data\")\n",
        "plt.scatter(cntr[:, 0], cntr[:, 1], marker='x', s=200, c='red', label=\"Centers\")\n",
        "plt.title(\"Fuzzy C-Means Clustering on Iris Dataset\")\n",
        "plt.xlabel(\"Fitur 1\")\n",
        "plt.ylabel(\"Fitur 2\")\n",
        "plt.legend()\n",
        "plt.grid(True)\n",
        "plt.show()"
      ]
    }
  ]
}